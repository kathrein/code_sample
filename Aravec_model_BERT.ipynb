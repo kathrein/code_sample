{
  "cells": [
    {
      "cell_type": "markdown",
      "metadata": {
        "id": "view-in-github",
        "colab_type": "text"
      },
      "source": [
        "<a href=\"https://colab.research.google.com/github/kathrein/code_sample/blob/main/Aravec_model_BERT.ipynb\" target=\"_parent\"><img src=\"https://colab.research.google.com/assets/colab-badge.svg\" alt=\"Open In Colab\"/></a>"
      ]
    },
    {
      "cell_type": "code",
      "execution_count": null,
      "metadata": {
        "id": "nXK3yIg7T3DN",
        "outputId": "016da29d-604c-4b43-b631-2a9d7ed1bf18"
      },
      "outputs": [
        {
          "name": "stderr",
          "output_type": "stream",
          "text": [
            "/Users/xabuka/opt/anaconda3/lib/python3.7/site-packages/tensorflow/python/framework/dtypes.py:526: FutureWarning: Passing (type, 1) or '1type' as a synonym of type is deprecated; in a future version of numpy, it will be understood as (type, (1,)) / '(1,)type'.\n",
            "  _np_qint8 = np.dtype([(\"qint8\", np.int8, 1)])\n",
            "/Users/xabuka/opt/anaconda3/lib/python3.7/site-packages/tensorflow/python/framework/dtypes.py:527: FutureWarning: Passing (type, 1) or '1type' as a synonym of type is deprecated; in a future version of numpy, it will be understood as (type, (1,)) / '(1,)type'.\n",
            "  _np_quint8 = np.dtype([(\"quint8\", np.uint8, 1)])\n",
            "/Users/xabuka/opt/anaconda3/lib/python3.7/site-packages/tensorflow/python/framework/dtypes.py:528: FutureWarning: Passing (type, 1) or '1type' as a synonym of type is deprecated; in a future version of numpy, it will be understood as (type, (1,)) / '(1,)type'.\n",
            "  _np_qint16 = np.dtype([(\"qint16\", np.int16, 1)])\n",
            "/Users/xabuka/opt/anaconda3/lib/python3.7/site-packages/tensorflow/python/framework/dtypes.py:529: FutureWarning: Passing (type, 1) or '1type' as a synonym of type is deprecated; in a future version of numpy, it will be understood as (type, (1,)) / '(1,)type'.\n",
            "  _np_quint16 = np.dtype([(\"quint16\", np.uint16, 1)])\n",
            "/Users/xabuka/opt/anaconda3/lib/python3.7/site-packages/tensorflow/python/framework/dtypes.py:530: FutureWarning: Passing (type, 1) or '1type' as a synonym of type is deprecated; in a future version of numpy, it will be understood as (type, (1,)) / '(1,)type'.\n",
            "  _np_qint32 = np.dtype([(\"qint32\", np.int32, 1)])\n",
            "/Users/xabuka/opt/anaconda3/lib/python3.7/site-packages/tensorflow/python/framework/dtypes.py:535: FutureWarning: Passing (type, 1) or '1type' as a synonym of type is deprecated; in a future version of numpy, it will be understood as (type, (1,)) / '(1,)type'.\n",
            "  np_resource = np.dtype([(\"resource\", np.ubyte, 1)])\n",
            "Using TensorFlow backend.\n"
          ]
        }
      ],
      "source": [
        "\n",
        "from numpy.random import seed\n",
        "seed(1)\n",
        "from tensorflow import set_random_seed\n",
        "set_random_seed(2)\n",
        "\n",
        "from numpy.random import seed\n",
        "seed(1)\n",
        "from tensorflow import set_random_seed\n",
        "set_random_seed(2)\n",
        "import loading\n",
        "import process_aravec\n",
        "from gensim.models import Word2Vec\n",
        "import os\n",
        "import numpy as np\n",
        "from keras.preprocessing.text import Tokenizer\n",
        "from keras.models import Sequential\n",
        "from keras import layers\n",
        "from keras.optimizers import RMSprop,Adam\n",
        "from keras.layers import Input,Embedding, Conv1D,MaxPooling1D,GlobalMaxPooling1D, Dense,Dropout,LSTM,Flatten,GRU,Bidirectional,GlobalAveragePooling1D\n",
        "from keras.callbacks import EarlyStopping,ModelCheckpoint\n",
        "from sklearn import metrics\n",
        "import matplotlib.pyplot as plt\n",
        "import seaborn as sns             \n",
        "from keras import regularizers\n",
        "from keras.models import Model\n"
      ]
    },
    {
      "cell_type": "code",
      "execution_count": null,
      "metadata": {
        "id": "xaKa6RM7T3DT",
        "outputId": "f54adb3f-adcd-42d7-aac9-d774740607c3"
      },
      "outputs": [
        {
          "data": {
            "text/html": [
              "<div>\n",
              "<style scoped>\n",
              "    .dataframe tbody tr th:only-of-type {\n",
              "        vertical-align: middle;\n",
              "    }\n",
              "\n",
              "    .dataframe tbody tr th {\n",
              "        vertical-align: top;\n",
              "    }\n",
              "\n",
              "    .dataframe thead th {\n",
              "        text-align: right;\n",
              "    }\n",
              "</style>\n",
              "<table border=\"1\" class=\"dataframe\">\n",
              "  <thead>\n",
              "    <tr style=\"text-align: right;\">\n",
              "      <th></th>\n",
              "      <th>sentence</th>\n",
              "      <th>label</th>\n",
              "    </tr>\n",
              "  </thead>\n",
              "  <tbody>\n",
              "    <tr>\n",
              "      <th>31323</th>\n",
              "      <td>مرت عمي ماقالت لالك شو بصير</td>\n",
              "      <td>2</td>\n",
              "    </tr>\n",
              "    <tr>\n",
              "      <th>35461</th>\n",
              "      <td>يارا ما تزعل مني انا ما بعرف شو صار</td>\n",
              "      <td>2</td>\n",
              "    </tr>\n",
              "    <tr>\n",
              "      <th>30107</th>\n",
              "      <td>بعدين نظفي بيتك وحطي العحينه تبعت الصراصير با...</td>\n",
              "      <td>1</td>\n",
              "    </tr>\n",
              "    <tr>\n",
              "      <th>58913</th>\n",
              "      <td>ياسمين اوك جيبيلي عصير على غرفتي</td>\n",
              "      <td>2</td>\n",
              "    </tr>\n",
              "    <tr>\n",
              "      <th>11218</th>\n",
              "      <td>رجعت مكرهه لغرفتي وانا مو مقتنعه بالذات انو ح...</td>\n",
              "      <td>2</td>\n",
              "    </tr>\n",
              "    <tr>\n",
              "      <th>33988</th>\n",
              "      <td>ابراهيم كنعان لازم يكون في تمييز بين النائب و...</td>\n",
              "      <td>3</td>\n",
              "    </tr>\n",
              "    <tr>\n",
              "      <th>41044</th>\n",
              "      <td>الاوضاع ببلدنا عم تصير كل يوم اصعب</td>\n",
              "      <td>3</td>\n",
              "    </tr>\n",
              "    <tr>\n",
              "      <th>7358</th>\n",
              "      <td>لك يانذل اتركها شو بدك فيها</td>\n",
              "      <td>2</td>\n",
              "    </tr>\n",
              "    <tr>\n",
              "      <th>18859</th>\n",
              "      <td>غاده ايه اريح هي تضل بعيده عني وكتر خيرها شو ...</td>\n",
              "      <td>2</td>\n",
              "    </tr>\n",
              "    <tr>\n",
              "      <th>10624</th>\n",
              "      <td>وليد ضرب ايدو بالحيط لك انتي كيف ما فهمتي</td>\n",
              "      <td>2</td>\n",
              "    </tr>\n",
              "  </tbody>\n",
              "</table>\n",
              "</div>"
            ],
            "text/plain": [
              "                                                sentence  label\n",
              "31323                       مرت عمي ماقالت لالك شو بصير       2\n",
              "35461               يارا ما تزعل مني انا ما بعرف شو صار       2\n",
              "30107   بعدين نظفي بيتك وحطي العحينه تبعت الصراصير با...      1\n",
              "58913                  ياسمين اوك جيبيلي عصير على غرفتي       2\n",
              "11218   رجعت مكرهه لغرفتي وانا مو مقتنعه بالذات انو ح...      2\n",
              "33988   ابراهيم كنعان لازم يكون في تمييز بين النائب و...      3\n",
              "41044                الاوضاع ببلدنا عم تصير كل يوم اصعب       3\n",
              "7358                        لك يانذل اتركها شو بدك فيها       2\n",
              "18859   غاده ايه اريح هي تضل بعيده عني وكتر خيرها شو ...      2\n",
              "10624         وليد ضرب ايدو بالحيط لك انتي كيف ما فهمتي       2"
            ]
          },
          "execution_count": 152,
          "metadata": {},
          "output_type": "execute_result"
        }
      ],
      "source": [
        "max_features = 25000\n",
        "max_len = 130#77\n",
        "\n",
        "# Convolution\n",
        "kernel_size = 5\n",
        "filters = 64\n",
        "pool_size = 2\n",
        "\n",
        "# LSTM\n",
        "lstm_output_size = 70\n",
        "#keras model\n",
        "epochs = 100\n",
        "batch_size=50\n",
        "\n",
        "#data directory\n",
        "#data_dir = '../data/SplitedPalSent'\n",
        "#data_dir = '../data/ASTD'\n",
        "import pandas as pd\n",
        "#df = pd.read_csv(\"../data/ASTD/astd.csv\", delimiter=';', header=None, names=['sentence','label_tag', 'label'],encoding = \"utf-8\")\n",
        "#df = pd.read_csv(\"../data/ASTD/40k.csv\", delimiter=';', header=None, names=['sentence', 'label'],encoding = \"utf-8\")\n",
        "#df = pd.read_csv(\"../data/ASTD/ATSAD.csv\", delimiter=';', header=None, names=['label_tag','sentence', 'label'],encoding = \"utf-8\")\n",
        "#df = pd.read_csv(\"../data/ASTD/Madar6.csv\", delimiter=';', header=None, names=['sentence', 'label'])\n",
        "df = pd.read_csv(\"../data/ASTD/shami.csv\", delimiter=';', header=None, names=['sentence', 'label'],encoding = \"utf-8\")\n",
        "#df = pd.read_csv(\"../data/ASTD/padic.csv\", delimiter=';', header=None, names=['sentence', 'label'],encoding = \"utf-8\")\n",
        "df = df.sample(frac=1).reset_index(drop=True)\n",
        "df.label = pd.factorize(df.label)[0]\n",
        "df.sample(10)\n",
        "#data_dir = '../data/labr5/clean'\n",
        "#data_dir = '../data/labr3'\n",
        "#data_dir = '../data/labr2'\n",
        "#data_dir = '../data/Shami'\n",
        "#train_dir = '..⁩/..⁩/MADAR_ArbDialectID/Task1⁩/⁨data/⁨D6_26⁩/6dialects⁩/splited_train⁩/⁨BEI'\n",
        "#test_dir = '..⁩/..⁩/MADAR_ArbDialectID/Task1⁩/⁨data/⁨D6_26⁩/6dialects⁩/splited_dev⁩/⁨BEI'"
      ]
    },
    {
      "cell_type": "code",
      "execution_count": null,
      "metadata": {
        "id": "J43RKV3hT3DV"
      },
      "outputs": [],
      "source": [
        "def load_train(text,label, maxlen,max_words):\n",
        "#train_directory\n",
        "    \n",
        "    #train_dir = os.path.join(imdb_dir, 'train')\n",
        "    labels = label\n",
        "    texts = []\n",
        "    \n",
        "    for t in text:\n",
        "        texts.append(str(t))\n",
        "    #print('length'+str(len(texts)))\n",
        "\n",
        "    tokenizer = Tokenizer(num_words=max_words,split=' ')\n",
        "    tokenizer.fit_on_texts(texts)\n",
        "    sequences = tokenizer.texts_to_sequences(texts)\n",
        "    word_index = tokenizer.word_index\n",
        "    print('Found %s unique tokens.' % len(word_index))\n",
        "    \n",
        "    data = pad_sequences(sequences, maxlen=maxlen,padding='post')\n",
        "    labels = np.asarray(labels)\n",
        "    print('Shape of data tensor:', data.shape)\n",
        "    print('Shape of label tensor:', labels.shape)\n",
        "    # Split the data into a training set and a validation set\n",
        "    # But first, shuffle the data, since we started from data\n",
        "    # where sample are ordered (all negative first, then all positive).\n",
        "    indices = np.arange(data.shape[0])\n",
        "    np.random.shuffle(indices)\n",
        "    print(\"Data = {0:d}\".format(len(data)))\n",
        "    data = data[indices]\n",
        "    labels = labels[indices]\n",
        "    \n",
        "    training_samples= len(data)\n",
        "    x_train = data[:training_samples]\n",
        "    y_train = labels[:training_samples]\n",
        "    #if not binary:\n",
        "    # to use for Dialect identifaction and comment it when SA\n",
        "    y_train = to_categorical(y_train, num_classes=4)\n",
        "    \n",
        "        \n",
        "    #else:\n",
        "        #x_train, x_test, y_train, y_test = train_test_split(x_train, y_train, test_size=0.2, random_state=42)\n",
        "        #return x_train, x_test, y_train, y_test\n",
        "        #print(type(x_train))\n",
        "        #print(type(y_train))\n",
        "    return x_train, y_train, word_index\n",
        "    \n",
        "    \n",
        "def load_test(text,label, maxlen,max_words):\n",
        "\n",
        "    labels = label\n",
        "    texts = []\n",
        "    \n",
        "    for t in text:\n",
        "        texts.append(str(t))\n",
        "    \n",
        "    tokenizer = Tokenizer(num_words=max_words)\n",
        "    tokenizer.fit_on_texts(texts)\n",
        "    sequences = tokenizer.texts_to_sequences(texts)\n",
        "    x_test = pad_sequences(sequences, maxlen=maxlen,padding='post')\n",
        "    \n",
        "    #print(labels)\n",
        "    y_test = np.asarray(labels)\n",
        "    \n",
        "    \n",
        "    #print(y_test)\n",
        "    return x_test, y_test\n",
        "\n",
        " "
      ]
    },
    {
      "cell_type": "code",
      "execution_count": null,
      "metadata": {
        "scrolled": true,
        "id": "kk0Ol4FPT3Dg",
        "outputId": "a4f035cc-1708-4ee4-a13b-da0892acc09f"
      },
      "outputs": [
        {
          "name": "stdout",
          "output_type": "stream",
          "text": [
            "total # of doc: \n",
            "66251\n",
            "Found 95117 unique tokens.\n",
            "Shape of data tensor: (59625, 130)\n",
            "Shape of label tensor: (59625,)\n",
            "Data = 59625\n",
            "train : \n",
            "59625\n",
            "59625\n",
            "test : \n",
            "6626\n",
            "6626\n"
          ]
        }
      ],
      "source": [
        "#import loading\n",
        "from keras.preprocessing.sequence import pad_sequences\n",
        "from keras.utils import to_categorical\n",
        "\n",
        "#input_test, y_test = loading.load_test(data_dir,max_len,max_features,binary = True )\n",
        "\n",
        "\n",
        "all_sentences = df.sentence.values\n",
        "all_labels = df.label.values\n",
        "print('total # of doc: ')\n",
        "print(len(all_sentences))\n",
        "#if we have two seperated files for train and test, pleease commit the following code\n",
        "# and remove word all_ from the previous two lines.\n",
        "from sklearn.model_selection import train_test_split\n",
        "\n",
        "# as we have separate test set , then no need to split here\n",
        "train_df, test_df = train_test_split(df, test_size=0.1)\n",
        "train_sentences = train_df.sentence.values\n",
        "train_labels = train_df.label.values\n",
        "test_sentences = test_df.sentence.values\n",
        "test_labels = test_df.label.values\n",
        "#df.sample(100)\n",
        "\n",
        "input_train, y_train, word_index  = load_train(train_sentences,train_labels, max_len,max_features)\n",
        "print('train : ')\n",
        "print(len(input_train))\n",
        "print(len(y_train))\n",
        "\n",
        "input_test, y_test = load_test(test_sentences,test_labels,max_len,max_features)\n",
        "\n",
        "\n",
        "\n",
        "print('test : ')\n",
        "print(len(input_test))\n",
        "print(len(y_test))\n",
        "#type(train_sentences)\n",
        "\n",
        "\n",
        "#print(input_test[1])\n",
        "\n",
        "\n"
      ]
    },
    {
      "cell_type": "code",
      "execution_count": null,
      "metadata": {
        "scrolled": true,
        "id": "QqlNGjkpT3Dk",
        "outputId": "0716e630-a984-4763-b89a-03ae6bc959c5"
      },
      "outputs": [
        {
          "name": "stdout",
          "output_type": "stream",
          "text": [
            "Found 331679 word vectors.\n",
            "0.98072\n"
          ]
        }
      ],
      "source": [
        "def embedding_matrix(word_index,max_len,max_features):\n",
        "    ara_dir = '../data/tweet_cbow_300/'\n",
        "    word_index = word_index#loading.word_index(data_dir,max_len,max_features,True)\n",
        "    t_model = Word2Vec.load(os.path.join(ara_dir,'tweets_cbow_300'))\n",
        "\n",
        "    print('Found %s word vectors.' % len(t_model.wv.index2word))# how many words in aravec this model\n",
        "    embeddings_index = t_model.wv\n",
        "\n",
        "    embedding_dim = embeddings_index.vector_size #300\n",
        "    embedding_matrix = np.zeros((max_features, embedding_dim))\n",
        "\n",
        "    for word, i in word_index.items():\n",
        "        word = process_aravec.clean_str(word).replace(\" \", \"_\")\n",
        "        check = False\n",
        "        if word in embeddings_index:\n",
        "            w = word\n",
        "            check = True\n",
        "        elif word[1:] in embeddings_index:\n",
        "            w= word[1:]\n",
        "            check = True\n",
        "        elif word[:-2] in embeddings_index:\n",
        "            w= word[:-2]\n",
        "            check = True\n",
        "        if check:\n",
        "            embedding_vector = embeddings_index[w]\n",
        "            if i < max_features:\n",
        "                if embedding_vector is not None:\n",
        "                    # Words not found in embedding index will be all-zeros.\n",
        "                    embedding_matrix[i] = embedding_vector\n",
        "                    #print(len(embedding_vector))\n",
        "       \n",
        "        \n",
        "    return  embedding_matrix  \n",
        "embedding_matrix = embedding_matrix(word_index,max_len,max_features)\n",
        "nonzero_elements = np.count_nonzero(np.count_nonzero(embedding_matrix, axis=1))\n",
        "print(nonzero_elements / max_features)\n",
        "#for dialetct PAl it only covers 35% of the vocabulary\n",
        "# for MSA it covers 98%\n",
        "#ASTD . 90%\n",
        "#shami 67%, 78"
      ]
    },
    {
      "cell_type": "code",
      "execution_count": null,
      "metadata": {
        "id": "MOjSs4cGT3Dn",
        "outputId": "06c388bc-9923-40fc-c002-91502f4672eb"
      },
      "outputs": [
        {
          "name": "stdout",
          "output_type": "stream",
          "text": [
            "(25000, 300)\n",
            "Model: \"sequential_15\"\n",
            "_________________________________________________________________\n",
            "Layer (type)                 Output Shape              Param #   \n",
            "=================================================================\n",
            "embedding_15 (Embedding)     (None, 130, 300)          7500000   \n",
            "_________________________________________________________________\n",
            "lstm_15 (LSTM)               (None, 70)                103880    \n",
            "_________________________________________________________________\n",
            "dropout_15 (Dropout)         (None, 70)                0         \n",
            "_________________________________________________________________\n",
            "dense_29 (Dense)             (None, 30)                2130      \n",
            "_________________________________________________________________\n",
            "dense_30 (Dense)             (None, 4)                 124       \n",
            "=================================================================\n",
            "Total params: 7,606,134\n",
            "Trainable params: 7,606,134\n",
            "Non-trainable params: 0\n",
            "_________________________________________________________________\n",
            "None\n"
          ]
        }
      ],
      "source": [
        "#building model CNN + LSTM\n",
        "#tried on ASTD \n",
        "print(embedding_matrix.shape)\n",
        "model = Sequential()\n",
        "model.add(Embedding(max_features, 300,weights=[embedding_matrix], trainable=True, input_length=max_len))\n",
        "model.add(LSTM(70,dropout=0.5, recurrent_dropout=0.5))#,return_sequences=True)))\n",
        "#model.add(LSTM(64,dropout=0.5, recurrent_dropout=0.5,return_sequences=False))\n",
        "model.add(Dropout(0.25))\n",
        "model.add(Dense(30))\n",
        "#model.add(Dropout(0.5))\n",
        "model.add(Dense(4,activation='sigmoid'))\n",
        "model.compile(loss = 'categorical_crossentropy', optimizer='adam',metrics =['acc'])\n",
        "#model.compile(optimizer='rmsprop', loss='binary_crossentropy', metrics=['acc'])\n",
        "print(model.summary())\n",
        "\n"
      ]
    },
    {
      "cell_type": "markdown",
      "metadata": {
        "id": "QhIH2QOKT3Dp"
      },
      "source": [
        "model = Sequential()\n",
        "model.add(Embedding(max_features, 100,weights=[embedding_matrix], trainable=True, input_length=max_len))\n",
        "#model.add(Flatten())\n",
        "#model.add(Conv1D(100, 10, activation='relu'))\n",
        "model.add(Conv1D(100, 10, activation='relu'))\n",
        "model.add(MaxPooling1D(3))\n",
        "model.add(Conv1D(160, 10, activation='relu'))\n",
        "#model.add(Conv1D(160, 10, activation='relu'))\n",
        "model.add(GlobalAveragePooling1D())\n",
        "model.add(Dropout(0.5))\n",
        "model.add(Dense(3, activation='softmax'))\n",
        "model.compile(loss = 'categorical_crossentropy', optimizer='adam',metrics =['acc'])\n",
        "#model.compile(optimizer='rmsprop', loss='binary_crossentropy', metrics=['acc'])\n",
        "print(model.summary())\n"
      ]
    },
    {
      "cell_type": "markdown",
      "metadata": {
        "id": "LV96iyc_T3Ds"
      },
      "source": [
        "#LSTM  EXP 16\n",
        "model=Sequential()\n",
        "model.add(Embedding(max_features, 300,weights=[embedding_matrix], trainable=True, input_length=max_len)) \n",
        "model.add(Bidirectional(LSTM(128,dropout=0.5, recurrent_dropout=0.5,return_sequences=True)))\n",
        "model.add(LSTM(64,dropout=0.5, recurrent_dropout=0.5,return_sequences=False))\n",
        "model.add(Dense(100,activation='relu'))\n",
        "model.add(Dropout(0.5))\n",
        "model.add(Dense(1,activation='sigmoid'))\n",
        "model.compile(optimizer='rmsprop', loss='binary_crossentropy', metrics=['acc'])\n",
        "model.summary()\n"
      ]
    },
    {
      "cell_type": "markdown",
      "metadata": {
        "id": "1lK75UBQT3Dt"
      },
      "source": [
        "#CNN_19,2\n",
        "\n",
        "\n",
        "def create_convnet(max_features, vectore_d):\n",
        "    input_shape = Input(shape=(max_features, vectore_d))\n",
        "    conv = []\n",
        "    for filters in [32,64,128]:\n",
        "        for k_size in [2,3,4,5,6]:\n",
        "            tower = Conv1D(filters, k_size, activation='relu')(input_shape)\n",
        "            tower = GlobalMaxPooling1D()(tower)\n",
        "            conv.append(tower)\n",
        "    \n",
        "    merged = layers.concatenate([tower for tower in conv], axis=1)\n",
        "   \n",
        "    \n",
        "    out = Dense(10,activation='relu')(merged)\n",
        "    #out = Dropout(0.3)(out)\n",
        "    #out = Dense(30)(out)\n",
        "    out = Dense(1, activation='sigmoid')(out)\n",
        "\n",
        "    model = Model(input_shape, out)\n",
        "    #print(model.summary())\n",
        "    from keras.utils.vis_utils import plot_model\n",
        "    #plot_model(model, to_file=filepath+'.png', show_shapes=True, show_layer_names=True)\n",
        "    return model\n",
        "\n",
        "\n",
        "input_shape =(max_features, )\n",
        "model = Sequential()\n",
        "model.add(Embedding(max_features, 300,weights=[embedding_matrix], trainable=True, input_length=max_len)) \n",
        "model.add(Bidirectional(LSTM(128,dropout=0.5, recurrent_dropout=0.5,return_sequences= True)))\n",
        "#model.add(Dropout(0.5))\n",
        "model.add(Bidirectional(LSTM(64,dropout=0.5, recurrent_dropout=0.5,return_sequences= True)))\n",
        "#model.add(Dropout(0.5))\n",
        "model.add(create_convnet(max_len, 128))\n",
        "\n",
        "\n",
        "\n",
        "#model.compile(loss = 'categorical_crossentropy', optimizer='adam',metrics =['acc'])\n",
        "model.compile(optimizer='rmsprop', loss='binary_crossentropy', metrics=['acc'])\n",
        "\n",
        "print(model.summary())\n"
      ]
    },
    {
      "cell_type": "markdown",
      "metadata": {
        "id": "IlWHbPwhT3Du"
      },
      "source": [
        "#EXP LSTM 9+17\n",
        "model=Sequential()\n",
        "model.add(Embedding(max_features, 300,weights=[embedding_matrix], trainable=True, input_length=max_len)) \n",
        "model.add(Bidirectional(LSTM(128,dropout=0.5, recurrent_dropout=0.5,return_sequences=True)))\n",
        "model.add(LSTM(64,dropout=0.5, recurrent_dropout=0.5,return_sequences=False))\n",
        "model.add(Dense(100,activation='relu'))\n",
        "model.add(Dropout(0.5))\n",
        "model.add(Dense(1,activation='sigmoid'))\n",
        "model.compile(optimizer='rmsprop', loss='binary_crossentropy', metrics=['acc'])\n",
        "print(model.summary())\n"
      ]
    },
    {
      "cell_type": "markdown",
      "metadata": {
        "id": "i1xdOU5_T3Dv"
      },
      "source": [
        "#building model CNN + LSTM kagg\n",
        "model = Sequential()\n",
        "model.add(Embedding(max_features, 300,weights=[embedding_matrix], trainable=True, input_length=max_len)) \n",
        "model.add(Dropout(0.2))\n",
        "model.add(Conv1D(filters, kernel_size, padding='valid', activation='relu', strides=1))\n",
        "model.add(MaxPooling1D(pool_size=pool_size))\n",
        "model.add(Dropout(0.2))\n",
        "model.add(Conv1D(32, 3, padding='valid', activation='relu', strides=1))\n",
        "#model.add(Flatten())\n",
        "model.add(LSTM(lstm_output_size, dropout = 0.3, recurrent_dropout=0.3))\n",
        "model.add(Dense(3,activation='sigmoid'))\n",
        "#model.compile(optimizer='rmsprop', loss='binary_crossentropy', metrics=['acc'])\n",
        "model.compile(loss = 'categorical_crossentropy', optimizer='adam',metrics =['acc'])\n",
        "print(model.summary())   \n",
        "from keras.utils.vis_utils import plot_model\n",
        "plot_model(model, to_file='weights/kaggle.png', show_shapes=True, show_layer_names=True)\n",
        "    "
      ]
    },
    {
      "cell_type": "code",
      "execution_count": null,
      "metadata": {
        "id": "1b5LSrNiT3Dv",
        "outputId": "42f2c6a3-481a-463a-e069-1e00d5b6cf2a"
      },
      "outputs": [
        {
          "name": "stdout",
          "output_type": "stream",
          "text": [
            "Train on 47700 samples, validate on 11925 samples\n",
            "Epoch 1/100\n",
            "47700/47700 [==============================] - 385s 8ms/step - loss: 1.1530 - acc: 0.5713 - val_loss: 1.1571 - val_acc: 0.5639\n",
            "\n",
            "Epoch 00001: val_loss improved from inf to 1.15706, saving model to weights/weights.BERT_shami.hdf5\n",
            "Epoch 2/100\n",
            "47700/47700 [==============================] - 5795s 121ms/step - loss: 1.1481 - acc: 0.5718 - val_loss: 1.1593 - val_acc: 0.5638\n",
            "\n",
            "Epoch 00002: val_loss did not improve from 1.15706\n",
            "Epoch 3/100\n",
            "47700/47700 [==============================] - 409s 9ms/step - loss: 1.1467 - acc: 0.5718 - val_loss: 1.1578 - val_acc: 0.5636\n",
            "\n",
            "Epoch 00003: val_loss did not improve from 1.15706\n",
            "Epoch 4/100\n",
            "47700/47700 [==============================] - 513s 11ms/step - loss: 1.1464 - acc: 0.5718 - val_loss: 1.1576 - val_acc: 0.5639\n",
            "\n",
            "Epoch 00004: val_loss did not improve from 1.15706\n",
            "Epoch 5/100\n",
            "47700/47700 [==============================] - 479s 10ms/step - loss: 1.1456 - acc: 0.5721 - val_loss: 1.1589 - val_acc: 0.5634\n",
            "\n",
            "Epoch 00005: val_loss did not improve from 1.15706\n",
            "Epoch 6/100\n",
            "47700/47700 [==============================] - 553s 12ms/step - loss: 1.1451 - acc: 0.5721 - val_loss: 1.1612 - val_acc: 0.5632\n",
            "\n",
            "Epoch 00006: val_loss did not improve from 1.15706\n"
          ]
        }
      ],
      "source": [
        "#filepath=\"weights/weights.best.exp_16.hdf5\"\n",
        "\n",
        "#model.load_weights(filepath)\n",
        "filepath=\"weights/weights.BERT_shami.hdf5\"\n",
        "\n",
        "#saved_model = filepath\n",
        "checkpoint = ModelCheckpoint(filepath, monitor='val_loss', verbose=1, save_best_only=True, mode='min')\n",
        "callbacks_list = [checkpoint]\n",
        "\n",
        "from keras.callbacks import EarlyStopping\n",
        "\n",
        "early_stopping = EarlyStopping(monitor='val_loss', patience=5)\n",
        "callbacks_list = [checkpoint,early_stopping]\n",
        "history = model.fit(input_train, y_train,\n",
        "                    epochs=100,\n",
        "                    batch_size=32,\n",
        "                    #validation_data=(x_val, y_val),\n",
        "                    validation_split= 0.2,\n",
        "                    callbacks=callbacks_list)#[early_stopping])\n",
        "\n",
        "\n",
        "model.save_weights(filepath)   "
      ]
    },
    {
      "cell_type": "markdown",
      "metadata": {
        "id": "cPDcnU5TT3Dw"
      },
      "source": [
        "# 'Testing And Evalaution'\n",
        "1- classification report"
      ]
    },
    {
      "cell_type": "code",
      "execution_count": null,
      "metadata": {
        "scrolled": false,
        "id": "Im8-up75T3Dw",
        "outputId": "88b466ab-d1f0-47bb-e8db-a1825a089763"
      },
      "outputs": [
        {
          "name": "stdout",
          "output_type": "stream",
          "text": [
            "Accuracy: 56.84%\n"
          ]
        }
      ],
      "source": [
        "def plot_show(history):\n",
        "    acc = history.history['acc']\n",
        "    val_acc = history.history['val_acc']\n",
        "    loss = history.history['loss']\n",
        "    val_loss = history.history['val_loss']\n",
        "    epochs = range(1, len(acc) + 1)\n",
        "    plt.plot(epochs, acc, 'bo', label='Training acc')\n",
        "    plt.plot(epochs, val_acc, 'b', label='Validation acc')\n",
        "    plt.title('Training and validation accuracy')\n",
        "    plt.legend()\n",
        "    plt.figure()\n",
        "    plt.plot(epochs, loss, 'bo', label='Training loss')\n",
        "    plt.plot(epochs, val_loss, 'b', label='Validation loss')\n",
        "    plt.title('Training and validation loss')\n",
        "    plt.legend()\n",
        "    plt.show()\n",
        "\n",
        "y_test = to_categorical(y_test, num_classes=4)\n",
        "    #plot_show(history)\n",
        "#filepath=\"weights/weights.best.exp16.hdf5\"\n",
        "#print(len(input_test))\n",
        "model.load_weights(filepath)\n",
        "#y_test.argmax(axis=1), predicte.argmax(axis=1)\n",
        "scores= model.evaluate(input_test, y_test,verbose=0)\n",
        "predicte = model.predict(input_test, verbose = 2, batch_size = batch_size)\n",
        "print(\"Accuracy: %.2f%%\" % (scores[1]*100))\n",
        "\n",
        "\n",
        "\n",
        "#from keras.utils.vis_utils import plot_model\n",
        "#plot_model(model, to_file=filepath+'.png', show_shapes=True, show_layer_names=True)"
      ]
    },
    {
      "cell_type": "code",
      "execution_count": null,
      "metadata": {
        "id": "zjSTTPDBT3Dz",
        "outputId": "09779fb1-8cb6-4aa5-bab5-2edf73463764"
      },
      "outputs": [
        {
          "name": "stdout",
          "output_type": "stream",
          "text": [
            "              precision    recall  f1-score   support\n",
            "\n",
            "           0       0.00      0.00      0.00       688\n",
            "           1       0.00      0.00      0.00      1047\n",
            "           2       0.57      1.00      0.72      3769\n",
            "           3       0.00      0.00      0.00      1122\n",
            "\n",
            "   micro avg       0.57      0.57      0.57      6626\n",
            "   macro avg       0.14      0.25      0.18      6626\n",
            "weighted avg       0.32      0.57      0.41      6626\n",
            " samples avg       0.57      0.57      0.57      6626\n",
            "\n"
          ]
        },
        {
          "name": "stderr",
          "output_type": "stream",
          "text": [
            "/Users/xabuka/opt/anaconda3/lib/python3.7/site-packages/sklearn/metrics/_classification.py:1272: UndefinedMetricWarning: Precision and F-score are ill-defined and being set to 0.0 in labels with no predicted samples. Use `zero_division` parameter to control this behavior.\n",
            "  _warn_prf(average, modifier, msg_start, len(result))\n",
            "/Users/xabuka/opt/anaconda3/lib/python3.7/site-packages/sklearn/metrics/_classification.py:1272: UndefinedMetricWarning: Precision and F-score are ill-defined and being set to 0.0 in samples with no predicted labels. Use `zero_division` parameter to control this behavior.\n",
            "  _warn_prf(average, modifier, msg_start, len(result))\n"
          ]
        }
      ],
      "source": [
        "#test and Evaluation\n",
        "#model.load_weights(filepath)\n",
        "#predicted = model.predict_proba(input_test, verbose = 2, batch_size = batch_size)\n",
        "#for binary\n",
        "#print(predicte)\n",
        "print(metrics.classification_report(y_test, np.round(predicte)))\n",
        "#for multi-class\n",
        "#print(metrics.classification_report(y_test.argmax(axis=1), predicte.argmax(axis=1)))\n"
      ]
    },
    {
      "cell_type": "code",
      "execution_count": null,
      "metadata": {
        "id": "pbhtOOYPT3D6",
        "outputId": "bff57c60-afca-4869-857a-7125e5e81ad2"
      },
      "outputs": [
        {
          "name": "stdout",
          "output_type": "stream",
          "text": [
            "Calculating Matthews Corr. Coef. for each batch...\n",
            "MCC: 0.004\n"
          ]
        }
      ],
      "source": [
        "from sklearn.metrics import matthews_corrcoef\n",
        "\n",
        "matthews_set = []\n",
        "\n",
        "# Evaluate each test batch using Matthew's correlation coefficient\n",
        "print('Calculating Matthews Corr. Coef. for each batch...')\n",
        "#y_test, np.round(predicte)\n",
        "# For each input batch...\n",
        "#mcc = matthews_corrcoef(y_test, np.round(predicte))\n",
        "\n",
        "mcc = matthews_corrcoef(y_test.argmax(axis=1), predicte.argmax(axis=1))\n",
        "\n",
        "\n",
        "\n",
        "print('MCC: %.3f' % mcc)\n"
      ]
    },
    {
      "cell_type": "code",
      "execution_count": null,
      "metadata": {
        "scrolled": false,
        "id": "pIrB8lOTT3D8",
        "outputId": "b45438ef-9f30-4bfe-9772-cf888d902403"
      },
      "outputs": [
        {
          "name": "stdout",
          "output_type": "stream",
          "text": [
            "0.17403548296254576\n",
            "Accuracy: 17.40%\n",
            "[[  0   0 610   0   0   0]\n",
            " [  0   0 594   0   0   0]\n",
            " [  0   0 618   0   0   0]\n",
            " [  0   0 585   0   0   0]\n",
            " [  0   0 593   0   0   0]\n",
            " [  0   0 551   0   0   0]]\n"
          ]
        },
        {
          "data": {
            "image/png": "[encoded data removed]",
            "text/plain": [
              "<Figure size 720x720 with 2 Axes>"
            ]
          },
          "metadata": {
            "needs_background": "light"
          },
          "output_type": "display_data"
        }
      ],
      "source": [
        "#predicted = np.argmax(predicted, axis=1)\n",
        "#scores= model.evaluate(input_test, y_test,verbose=0)\n",
        "#for binary\n",
        "#print(metrics.accuracy_score(y_test, np.round(predicte)))\n",
        "#conf_mat = metrics.confusion_matrix(y_test, np.round(predicte))\n",
        "#for multi\n",
        "print(metrics.accuracy_score(y_test.argmax(axis=1), predicte.argmax(axis=1)))\n",
        "conf_mat = metrics.confusion_matrix(y_test.argmax(axis=1), predicte.argmax(axis=1))\n",
        "\n",
        "print(\"Accuracy: %.2f%%\" % (scores[1]*100))\n",
        "print(conf_mat)\n",
        "\n",
        "fig, ax = plt.subplots(figsize=(10,10))\n",
        "sns.heatmap(conf_mat, annot=True, fmt='d',\n",
        "            xticklabels=['negative','positive'], yticklabels=['negative','positive'])\n",
        "plt.ylabel('Actual')\n",
        "plt.xlabel('Predicted')\n",
        "plt.show()\n",
        "#for x,y,p in zip(input_test,y_test,predicte):\n",
        " #   print(x,y,p)\n"
      ]
    },
    {
      "cell_type": "code",
      "execution_count": null,
      "metadata": {
        "id": "c0_kmDUFT3D8"
      },
      "outputs": [],
      "source": []
    }
  ],
  "metadata": {
    "kernelspec": {
      "display_name": "Python 3",
      "language": "python",
      "name": "python3"
    },
    "language_info": {
      "codemirror_mode": {
        "name": "ipython",
        "version": 3
      },
      "file_extension": ".py",
      "mimetype": "text/x-python",
      "name": "python",
      "nbconvert_exporter": "python",
      "pygments_lexer": "ipython3",
      "version": "3.7.6"
    },
    "colab": {
      "provenance": [],
      "include_colab_link": true
    }
  },
  "nbformat": 4,
  "nbformat_minor": 0
}